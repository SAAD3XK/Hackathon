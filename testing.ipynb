{
 "cells": [
  {
   "cell_type": "code",
   "execution_count": 1,
   "metadata": {},
   "outputs": [
    {
     "name": "stderr",
     "output_type": "stream",
     "text": [
      "2023-07-26 09:51:05.091984: I tensorflow/core/util/port.cc:110] oneDNN custom operations are on. You may see slightly different numerical results due to floating-point round-off errors from different computation orders. To turn them off, set the environment variable `TF_ENABLE_ONEDNN_OPTS=0`.\n",
      "2023-07-26 09:51:05.093304: I tensorflow/tsl/cuda/cudart_stub.cc:28] Could not find cuda drivers on your machine, GPU will not be used.\n",
      "2023-07-26 09:51:05.121845: I tensorflow/tsl/cuda/cudart_stub.cc:28] Could not find cuda drivers on your machine, GPU will not be used.\n",
      "2023-07-26 09:51:05.122745: I tensorflow/core/platform/cpu_feature_guard.cc:182] This TensorFlow binary is optimized to use available CPU instructions in performance-critical operations.\n",
      "To enable the following instructions: AVX2 AVX512F AVX512_VNNI FMA, in other operations, rebuild TensorFlow with the appropriate compiler flags.\n",
      "2023-07-26 09:51:05.794142: W tensorflow/compiler/tf2tensorrt/utils/py_utils.cc:38] TF-TRT Warning: Could not find TensorRT\n"
     ]
    }
   ],
   "source": [
    "import tensorflow as tf\n",
    "import tensorflow_hub as hub\n",
    "import tensorflow_text as text\n",
    "import pandas as pd"
   ]
  },
  {
   "cell_type": "code",
   "execution_count": 2,
   "metadata": {},
   "outputs": [],
   "source": [
    "fake_df = pd.read_csv('archive/Fake.csv')\n",
    "true_df = pd.read_csv('archive/True.csv')"
   ]
  },
  {
   "cell_type": "code",
   "execution_count": 3,
   "metadata": {},
   "outputs": [],
   "source": [
    "fake_df[\"category\"] = 'fake'\n",
    "true_df[\"category\"] = 'real'"
   ]
  },
  {
   "cell_type": "code",
   "execution_count": 4,
   "metadata": {},
   "outputs": [
    {
     "data": {
      "text/plain": [
       "(21417, 5)"
      ]
     },
     "execution_count": 4,
     "metadata": {},
     "output_type": "execute_result"
    }
   ],
   "source": [
    "fake_df_downsampled = fake_df.sample(true_df.shape[0])\n",
    "fake_df_downsampled.shape"
   ]
  },
  {
   "cell_type": "code",
   "execution_count": 5,
   "metadata": {},
   "outputs": [
    {
     "data": {
      "text/html": [
       "<div>\n",
       "<style scoped>\n",
       "    .dataframe tbody tr th:only-of-type {\n",
       "        vertical-align: middle;\n",
       "    }\n",
       "\n",
       "    .dataframe tbody tr th {\n",
       "        vertical-align: top;\n",
       "    }\n",
       "\n",
       "    .dataframe thead th {\n",
       "        text-align: right;\n",
       "    }\n",
       "</style>\n",
       "<table border=\"1\" class=\"dataframe\">\n",
       "  <thead>\n",
       "    <tr style=\"text-align: right;\">\n",
       "      <th></th>\n",
       "      <th>title</th>\n",
       "      <th>text</th>\n",
       "      <th>subject</th>\n",
       "      <th>date</th>\n",
       "      <th>category</th>\n",
       "    </tr>\n",
       "  </thead>\n",
       "  <tbody>\n",
       "    <tr>\n",
       "      <th>7911</th>\n",
       "      <td>Americans Demand Obama Pick Next Justice: GOP...</td>\n",
       "      <td>Ever since the passing of Supreme Court Justi...</td>\n",
       "      <td>News</td>\n",
       "      <td>February 23, 2016</td>\n",
       "      <td>fake</td>\n",
       "    </tr>\n",
       "    <tr>\n",
       "      <th>3723</th>\n",
       "      <td>Trump ERUPTS At Secret Meeting With The Press...</td>\n",
       "      <td>Donald Trump has had a rocky relationship with...</td>\n",
       "      <td>News</td>\n",
       "      <td>November 21, 2016</td>\n",
       "      <td>fake</td>\n",
       "    </tr>\n",
       "    <tr>\n",
       "      <th>5716</th>\n",
       "      <td>Hillary Gives HUGE Middle Finger To GOP Bigot...</td>\n",
       "      <td>While Donald the Trump is busy making the roun...</td>\n",
       "      <td>News</td>\n",
       "      <td>June 26, 2016</td>\n",
       "      <td>fake</td>\n",
       "    </tr>\n",
       "    <tr>\n",
       "      <th>4397</th>\n",
       "      <td>Trump LOSES IT, Has Complete Nervous Breakdow...</td>\n",
       "      <td>Trump has been having a very, very bad week. F...</td>\n",
       "      <td>News</td>\n",
       "      <td>October 2, 2016</td>\n",
       "      <td>fake</td>\n",
       "    </tr>\n",
       "    <tr>\n",
       "      <th>13091</th>\n",
       "      <td>OBAMA DEFENDS KAEPERNICK’S Decision to Disresp...</td>\n",
       "      <td>When Obama had the opportunity to speak out ag...</td>\n",
       "      <td>politics</td>\n",
       "      <td>Sep 5, 2016</td>\n",
       "      <td>fake</td>\n",
       "    </tr>\n",
       "    <tr>\n",
       "      <th>...</th>\n",
       "      <td>...</td>\n",
       "      <td>...</td>\n",
       "      <td>...</td>\n",
       "      <td>...</td>\n",
       "      <td>...</td>\n",
       "    </tr>\n",
       "    <tr>\n",
       "      <th>21412</th>\n",
       "      <td>'Fully committed' NATO backs new U.S. approach...</td>\n",
       "      <td>BRUSSELS (Reuters) - NATO allies on Tuesday we...</td>\n",
       "      <td>worldnews</td>\n",
       "      <td>August 22, 2017</td>\n",
       "      <td>real</td>\n",
       "    </tr>\n",
       "    <tr>\n",
       "      <th>21413</th>\n",
       "      <td>LexisNexis withdrew two products from Chinese ...</td>\n",
       "      <td>LONDON (Reuters) - LexisNexis, a provider of l...</td>\n",
       "      <td>worldnews</td>\n",
       "      <td>August 22, 2017</td>\n",
       "      <td>real</td>\n",
       "    </tr>\n",
       "    <tr>\n",
       "      <th>21414</th>\n",
       "      <td>Minsk cultural hub becomes haven from authorities</td>\n",
       "      <td>MINSK (Reuters) - In the shadow of disused Sov...</td>\n",
       "      <td>worldnews</td>\n",
       "      <td>August 22, 2017</td>\n",
       "      <td>real</td>\n",
       "    </tr>\n",
       "    <tr>\n",
       "      <th>21415</th>\n",
       "      <td>Vatican upbeat on possibility of Pope Francis ...</td>\n",
       "      <td>MOSCOW (Reuters) - Vatican Secretary of State ...</td>\n",
       "      <td>worldnews</td>\n",
       "      <td>August 22, 2017</td>\n",
       "      <td>real</td>\n",
       "    </tr>\n",
       "    <tr>\n",
       "      <th>21416</th>\n",
       "      <td>Indonesia to buy $1.14 billion worth of Russia...</td>\n",
       "      <td>JAKARTA (Reuters) - Indonesia will buy 11 Sukh...</td>\n",
       "      <td>worldnews</td>\n",
       "      <td>August 22, 2017</td>\n",
       "      <td>real</td>\n",
       "    </tr>\n",
       "  </tbody>\n",
       "</table>\n",
       "<p>42834 rows × 5 columns</p>\n",
       "</div>"
      ],
      "text/plain": [
       "                                                   title  \\\n",
       "7911    Americans Demand Obama Pick Next Justice: GOP...   \n",
       "3723    Trump ERUPTS At Secret Meeting With The Press...   \n",
       "5716    Hillary Gives HUGE Middle Finger To GOP Bigot...   \n",
       "4397    Trump LOSES IT, Has Complete Nervous Breakdow...   \n",
       "13091  OBAMA DEFENDS KAEPERNICK’S Decision to Disresp...   \n",
       "...                                                  ...   \n",
       "21412  'Fully committed' NATO backs new U.S. approach...   \n",
       "21413  LexisNexis withdrew two products from Chinese ...   \n",
       "21414  Minsk cultural hub becomes haven from authorities   \n",
       "21415  Vatican upbeat on possibility of Pope Francis ...   \n",
       "21416  Indonesia to buy $1.14 billion worth of Russia...   \n",
       "\n",
       "                                                    text    subject  \\\n",
       "7911    Ever since the passing of Supreme Court Justi...       News   \n",
       "3723   Donald Trump has had a rocky relationship with...       News   \n",
       "5716   While Donald the Trump is busy making the roun...       News   \n",
       "4397   Trump has been having a very, very bad week. F...       News   \n",
       "13091  When Obama had the opportunity to speak out ag...   politics   \n",
       "...                                                  ...        ...   \n",
       "21412  BRUSSELS (Reuters) - NATO allies on Tuesday we...  worldnews   \n",
       "21413  LONDON (Reuters) - LexisNexis, a provider of l...  worldnews   \n",
       "21414  MINSK (Reuters) - In the shadow of disused Sov...  worldnews   \n",
       "21415  MOSCOW (Reuters) - Vatican Secretary of State ...  worldnews   \n",
       "21416  JAKARTA (Reuters) - Indonesia will buy 11 Sukh...  worldnews   \n",
       "\n",
       "                    date category  \n",
       "7911   February 23, 2016     fake  \n",
       "3723   November 21, 2016     fake  \n",
       "5716       June 26, 2016     fake  \n",
       "4397     October 2, 2016     fake  \n",
       "13091        Sep 5, 2016     fake  \n",
       "...                  ...      ...  \n",
       "21412   August 22, 2017      real  \n",
       "21413   August 22, 2017      real  \n",
       "21414   August 22, 2017      real  \n",
       "21415   August 22, 2017      real  \n",
       "21416   August 22, 2017      real  \n",
       "\n",
       "[42834 rows x 5 columns]"
      ]
     },
     "execution_count": 5,
     "metadata": {},
     "output_type": "execute_result"
    }
   ],
   "source": [
    "combined_df = pd.concat([fake_df_downsampled, true_df])\n",
    "combined_df"
   ]
  },
  {
   "cell_type": "code",
   "execution_count": 6,
   "metadata": {},
   "outputs": [
    {
     "data": {
      "text/plain": [
       "title       0\n",
       "text        0\n",
       "subject     0\n",
       "date        0\n",
       "category    0\n",
       "dtype: int64"
      ]
     },
     "execution_count": 6,
     "metadata": {},
     "output_type": "execute_result"
    }
   ],
   "source": [
    "combined_df.dropna(subset=['title', 'text'], inplace=True)\n",
    "combined_df.isna().sum()"
   ]
  },
  {
   "cell_type": "code",
   "execution_count": 7,
   "metadata": {},
   "outputs": [],
   "source": [
    "combined_df.drop_duplicates(inplace=True)\n",
    "combined_df.drop_duplicates(subset='title', inplace=True)\n",
    "combined_df.drop_duplicates(subset='text', inplace=True)"
   ]
  },
  {
   "cell_type": "code",
   "execution_count": 8,
   "metadata": {},
   "outputs": [],
   "source": [
    "combined_df['input_text'] = combined_df['title'] + \" \" + combined_df['text']"
   ]
  },
  {
   "cell_type": "code",
   "execution_count": 10,
   "metadata": {},
   "outputs": [],
   "source": [
    "X = combined_df[['input_text']].values\n",
    "y = combined_df[['category']].values"
   ]
  },
  {
   "cell_type": "code",
   "execution_count": 11,
   "metadata": {},
   "outputs": [],
   "source": [
    "from sklearn.model_selection import train_test_split\n",
    "X_train, X_test, y_train, y_test = train_test_split(X, y, test_size=0.2, random_state=34, stratify=y)"
   ]
  },
  {
   "cell_type": "code",
   "execution_count": 12,
   "metadata": {},
   "outputs": [],
   "source": [
    "bert_preprocess = hub.KerasLayer(\"https://tfhub.dev/tensorflow/bert_en_uncased_preprocess/3\")\n",
    "bert_encoder = hub.KerasLayer(\"https://tfhub.dev/tensorflow/bert_en_uncased_L-12_H-768_A-12/4\")"
   ]
  },
  {
   "cell_type": "code",
   "execution_count": 13,
   "metadata": {},
   "outputs": [],
   "source": [
    "# Bert layers\n",
    "text_input = tf.keras.layers.Input(shape=(), dtype=tf.string, name='text')\n",
    "preprocessed_text = bert_preprocess(text_input)\n",
    "outputs = bert_encoder(preprocessed_text)\n",
    "\n",
    "# Neural network layers\n",
    "l = tf.keras.layers.Dropout(0.1, name=\"dropout\")(outputs['pooled_output'])\n",
    "l = tf.keras.layers.Dense(1, activation='sigmoid', name=\"output\")(l)\n",
    "\n",
    "# Use inputs and outputs to construct a final model\n",
    "model = tf.keras.Model(inputs=[text_input], outputs = [l])"
   ]
  },
  {
   "cell_type": "code",
   "execution_count": 14,
   "metadata": {},
   "outputs": [],
   "source": [
    "METRICS = [\n",
    "      tf.keras.metrics.BinaryAccuracy(name='accuracy'),\n",
    "      tf.keras.metrics.Precision(name='precision'),\n",
    "      tf.keras.metrics.Recall(name='recall')\n",
    "]\n",
    "\n",
    "model.compile(optimizer='adam',\n",
    "              loss='binary_crossentropy',\n",
    "              metrics=METRICS)"
   ]
  },
  {
   "cell_type": "code",
   "execution_count": 16,
   "metadata": {},
   "outputs": [
    {
     "name": "stderr",
     "output_type": "stream",
     "text": [
      "/home/saadsameerkhan/.local/lib/python3.10/site-packages/sklearn/preprocessing/_label.py:116: DataConversionWarning: A column-vector y was passed when a 1d array was expected. Please change the shape of y to (n_samples, ), for example using ravel().\n",
      "  y = column_or_1d(y, warn=True)\n"
     ]
    }
   ],
   "source": [
    "from sklearn.preprocessing import LabelEncoder\n",
    "label_encoder = LabelEncoder()\n",
    "y_train = label_encoder.fit_transform(y_train)"
   ]
  },
  {
   "cell_type": "code",
   "execution_count": 18,
   "metadata": {},
   "outputs": [
    {
     "name": "stdout",
     "output_type": "stream",
     "text": [
      "Epoch 1/10\n",
      "928/928 [==============================] - 5013s 5s/step - loss: 0.3262 - accuracy: 0.8842 - precision: 0.8753 - recall: 0.9254\n",
      "Epoch 2/10\n",
      "  2/928 [..............................] - ETA: 1:24:31 - loss: 0.1395 - accuracy: 0.9688 - precision: 0.9744 - recall: 0.9744"
     ]
    },
    {
     "ename": "KeyboardInterrupt",
     "evalue": "",
     "output_type": "error",
     "traceback": [
      "\u001b[0;31m---------------------------------------------------------------------------\u001b[0m",
      "\u001b[0;31mKeyboardInterrupt\u001b[0m                         Traceback (most recent call last)",
      "Cell \u001b[0;32mIn[18], line 1\u001b[0m\n\u001b[0;32m----> 1\u001b[0m model\u001b[39m.\u001b[39;49mfit(X_train, y_train, epochs\u001b[39m=\u001b[39;49m\u001b[39m10\u001b[39;49m)\n",
      "File \u001b[0;32m~/anaconda3/lib/python3.10/site-packages/keras/src/utils/traceback_utils.py:65\u001b[0m, in \u001b[0;36mfilter_traceback.<locals>.error_handler\u001b[0;34m(*args, **kwargs)\u001b[0m\n\u001b[1;32m     63\u001b[0m filtered_tb \u001b[39m=\u001b[39m \u001b[39mNone\u001b[39;00m\n\u001b[1;32m     64\u001b[0m \u001b[39mtry\u001b[39;00m:\n\u001b[0;32m---> 65\u001b[0m     \u001b[39mreturn\u001b[39;00m fn(\u001b[39m*\u001b[39;49margs, \u001b[39m*\u001b[39;49m\u001b[39m*\u001b[39;49mkwargs)\n\u001b[1;32m     66\u001b[0m \u001b[39mexcept\u001b[39;00m \u001b[39mException\u001b[39;00m \u001b[39mas\u001b[39;00m e:\n\u001b[1;32m     67\u001b[0m     filtered_tb \u001b[39m=\u001b[39m _process_traceback_frames(e\u001b[39m.\u001b[39m__traceback__)\n",
      "File \u001b[0;32m~/anaconda3/lib/python3.10/site-packages/keras/src/engine/training.py:1742\u001b[0m, in \u001b[0;36mModel.fit\u001b[0;34m(self, x, y, batch_size, epochs, verbose, callbacks, validation_split, validation_data, shuffle, class_weight, sample_weight, initial_epoch, steps_per_epoch, validation_steps, validation_batch_size, validation_freq, max_queue_size, workers, use_multiprocessing)\u001b[0m\n\u001b[1;32m   1734\u001b[0m \u001b[39mwith\u001b[39;00m tf\u001b[39m.\u001b[39mprofiler\u001b[39m.\u001b[39mexperimental\u001b[39m.\u001b[39mTrace(\n\u001b[1;32m   1735\u001b[0m     \u001b[39m\"\u001b[39m\u001b[39mtrain\u001b[39m\u001b[39m\"\u001b[39m,\n\u001b[1;32m   1736\u001b[0m     epoch_num\u001b[39m=\u001b[39mepoch,\n\u001b[0;32m   (...)\u001b[0m\n\u001b[1;32m   1739\u001b[0m     _r\u001b[39m=\u001b[39m\u001b[39m1\u001b[39m,\n\u001b[1;32m   1740\u001b[0m ):\n\u001b[1;32m   1741\u001b[0m     callbacks\u001b[39m.\u001b[39mon_train_batch_begin(step)\n\u001b[0;32m-> 1742\u001b[0m     tmp_logs \u001b[39m=\u001b[39m \u001b[39mself\u001b[39;49m\u001b[39m.\u001b[39;49mtrain_function(iterator)\n\u001b[1;32m   1743\u001b[0m     \u001b[39mif\u001b[39;00m data_handler\u001b[39m.\u001b[39mshould_sync:\n\u001b[1;32m   1744\u001b[0m         context\u001b[39m.\u001b[39masync_wait()\n",
      "File \u001b[0;32m~/anaconda3/lib/python3.10/site-packages/tensorflow/python/util/traceback_utils.py:150\u001b[0m, in \u001b[0;36mfilter_traceback.<locals>.error_handler\u001b[0;34m(*args, **kwargs)\u001b[0m\n\u001b[1;32m    148\u001b[0m filtered_tb \u001b[39m=\u001b[39m \u001b[39mNone\u001b[39;00m\n\u001b[1;32m    149\u001b[0m \u001b[39mtry\u001b[39;00m:\n\u001b[0;32m--> 150\u001b[0m   \u001b[39mreturn\u001b[39;00m fn(\u001b[39m*\u001b[39;49margs, \u001b[39m*\u001b[39;49m\u001b[39m*\u001b[39;49mkwargs)\n\u001b[1;32m    151\u001b[0m \u001b[39mexcept\u001b[39;00m \u001b[39mException\u001b[39;00m \u001b[39mas\u001b[39;00m e:\n\u001b[1;32m    152\u001b[0m   filtered_tb \u001b[39m=\u001b[39m _process_traceback_frames(e\u001b[39m.\u001b[39m__traceback__)\n",
      "File \u001b[0;32m~/anaconda3/lib/python3.10/site-packages/tensorflow/python/eager/polymorphic_function/polymorphic_function.py:825\u001b[0m, in \u001b[0;36mFunction.__call__\u001b[0;34m(self, *args, **kwds)\u001b[0m\n\u001b[1;32m    822\u001b[0m compiler \u001b[39m=\u001b[39m \u001b[39m\"\u001b[39m\u001b[39mxla\u001b[39m\u001b[39m\"\u001b[39m \u001b[39mif\u001b[39;00m \u001b[39mself\u001b[39m\u001b[39m.\u001b[39m_jit_compile \u001b[39melse\u001b[39;00m \u001b[39m\"\u001b[39m\u001b[39mnonXla\u001b[39m\u001b[39m\"\u001b[39m\n\u001b[1;32m    824\u001b[0m \u001b[39mwith\u001b[39;00m OptionalXlaContext(\u001b[39mself\u001b[39m\u001b[39m.\u001b[39m_jit_compile):\n\u001b[0;32m--> 825\u001b[0m   result \u001b[39m=\u001b[39m \u001b[39mself\u001b[39;49m\u001b[39m.\u001b[39;49m_call(\u001b[39m*\u001b[39;49margs, \u001b[39m*\u001b[39;49m\u001b[39m*\u001b[39;49mkwds)\n\u001b[1;32m    827\u001b[0m new_tracing_count \u001b[39m=\u001b[39m \u001b[39mself\u001b[39m\u001b[39m.\u001b[39mexperimental_get_tracing_count()\n\u001b[1;32m    828\u001b[0m without_tracing \u001b[39m=\u001b[39m (tracing_count \u001b[39m==\u001b[39m new_tracing_count)\n",
      "File \u001b[0;32m~/anaconda3/lib/python3.10/site-packages/tensorflow/python/eager/polymorphic_function/polymorphic_function.py:857\u001b[0m, in \u001b[0;36mFunction._call\u001b[0;34m(self, *args, **kwds)\u001b[0m\n\u001b[1;32m    854\u001b[0m   \u001b[39mself\u001b[39m\u001b[39m.\u001b[39m_lock\u001b[39m.\u001b[39mrelease()\n\u001b[1;32m    855\u001b[0m   \u001b[39m# In this case we have created variables on the first call, so we run the\u001b[39;00m\n\u001b[1;32m    856\u001b[0m   \u001b[39m# defunned version which is guaranteed to never create variables.\u001b[39;00m\n\u001b[0;32m--> 857\u001b[0m   \u001b[39mreturn\u001b[39;00m \u001b[39mself\u001b[39;49m\u001b[39m.\u001b[39;49m_no_variable_creation_fn(\u001b[39m*\u001b[39;49margs, \u001b[39m*\u001b[39;49m\u001b[39m*\u001b[39;49mkwds)  \u001b[39m# pylint: disable=not-callable\u001b[39;00m\n\u001b[1;32m    858\u001b[0m \u001b[39melif\u001b[39;00m \u001b[39mself\u001b[39m\u001b[39m.\u001b[39m_variable_creation_fn \u001b[39mis\u001b[39;00m \u001b[39mnot\u001b[39;00m \u001b[39mNone\u001b[39;00m:\n\u001b[1;32m    859\u001b[0m   \u001b[39m# Release the lock early so that multiple threads can perform the call\u001b[39;00m\n\u001b[1;32m    860\u001b[0m   \u001b[39m# in parallel.\u001b[39;00m\n\u001b[1;32m    861\u001b[0m   \u001b[39mself\u001b[39m\u001b[39m.\u001b[39m_lock\u001b[39m.\u001b[39mrelease()\n",
      "File \u001b[0;32m~/anaconda3/lib/python3.10/site-packages/tensorflow/python/eager/polymorphic_function/tracing_compiler.py:148\u001b[0m, in \u001b[0;36mTracingCompiler.__call__\u001b[0;34m(self, *args, **kwargs)\u001b[0m\n\u001b[1;32m    145\u001b[0m \u001b[39mwith\u001b[39;00m \u001b[39mself\u001b[39m\u001b[39m.\u001b[39m_lock:\n\u001b[1;32m    146\u001b[0m   (concrete_function,\n\u001b[1;32m    147\u001b[0m    filtered_flat_args) \u001b[39m=\u001b[39m \u001b[39mself\u001b[39m\u001b[39m.\u001b[39m_maybe_define_function(args, kwargs)\n\u001b[0;32m--> 148\u001b[0m \u001b[39mreturn\u001b[39;00m concrete_function\u001b[39m.\u001b[39;49m_call_flat(\n\u001b[1;32m    149\u001b[0m     filtered_flat_args, captured_inputs\u001b[39m=\u001b[39;49mconcrete_function\u001b[39m.\u001b[39;49mcaptured_inputs)\n",
      "File \u001b[0;32m~/anaconda3/lib/python3.10/site-packages/tensorflow/python/eager/polymorphic_function/monomorphic_function.py:1349\u001b[0m, in \u001b[0;36mConcreteFunction._call_flat\u001b[0;34m(self, args, captured_inputs)\u001b[0m\n\u001b[1;32m   1345\u001b[0m possible_gradient_type \u001b[39m=\u001b[39m gradients_util\u001b[39m.\u001b[39mPossibleTapeGradientTypes(args)\n\u001b[1;32m   1346\u001b[0m \u001b[39mif\u001b[39;00m (possible_gradient_type \u001b[39m==\u001b[39m gradients_util\u001b[39m.\u001b[39mPOSSIBLE_GRADIENT_TYPES_NONE\n\u001b[1;32m   1347\u001b[0m     \u001b[39mand\u001b[39;00m executing_eagerly):\n\u001b[1;32m   1348\u001b[0m   \u001b[39m# No tape is watching; skip to running the function.\u001b[39;00m\n\u001b[0;32m-> 1349\u001b[0m   \u001b[39mreturn\u001b[39;00m \u001b[39mself\u001b[39m\u001b[39m.\u001b[39m_build_call_outputs(\u001b[39mself\u001b[39;49m\u001b[39m.\u001b[39;49m_inference_function(\u001b[39m*\u001b[39;49margs))\n\u001b[1;32m   1350\u001b[0m forward_backward \u001b[39m=\u001b[39m \u001b[39mself\u001b[39m\u001b[39m.\u001b[39m_select_forward_and_backward_functions(\n\u001b[1;32m   1351\u001b[0m     args,\n\u001b[1;32m   1352\u001b[0m     possible_gradient_type,\n\u001b[1;32m   1353\u001b[0m     executing_eagerly)\n\u001b[1;32m   1354\u001b[0m forward_function, args_with_tangents \u001b[39m=\u001b[39m forward_backward\u001b[39m.\u001b[39mforward()\n",
      "File \u001b[0;32m~/anaconda3/lib/python3.10/site-packages/tensorflow/python/eager/polymorphic_function/atomic_function.py:196\u001b[0m, in \u001b[0;36mAtomicFunction.__call__\u001b[0;34m(self, *args)\u001b[0m\n\u001b[1;32m    194\u001b[0m \u001b[39mwith\u001b[39;00m record\u001b[39m.\u001b[39mstop_recording():\n\u001b[1;32m    195\u001b[0m   \u001b[39mif\u001b[39;00m \u001b[39mself\u001b[39m\u001b[39m.\u001b[39m_bound_context\u001b[39m.\u001b[39mexecuting_eagerly():\n\u001b[0;32m--> 196\u001b[0m     outputs \u001b[39m=\u001b[39m \u001b[39mself\u001b[39;49m\u001b[39m.\u001b[39;49m_bound_context\u001b[39m.\u001b[39;49mcall_function(\n\u001b[1;32m    197\u001b[0m         \u001b[39mself\u001b[39;49m\u001b[39m.\u001b[39;49mname,\n\u001b[1;32m    198\u001b[0m         \u001b[39mlist\u001b[39;49m(args),\n\u001b[1;32m    199\u001b[0m         \u001b[39mlen\u001b[39;49m(\u001b[39mself\u001b[39;49m\u001b[39m.\u001b[39;49mfunction_type\u001b[39m.\u001b[39;49mflat_outputs),\n\u001b[1;32m    200\u001b[0m     )\n\u001b[1;32m    201\u001b[0m   \u001b[39melse\u001b[39;00m:\n\u001b[1;32m    202\u001b[0m     outputs \u001b[39m=\u001b[39m make_call_op_in_graph(\u001b[39mself\u001b[39m, \u001b[39mlist\u001b[39m(args))\n",
      "File \u001b[0;32m~/anaconda3/lib/python3.10/site-packages/tensorflow/python/eager/context.py:1457\u001b[0m, in \u001b[0;36mContext.call_function\u001b[0;34m(self, name, tensor_inputs, num_outputs)\u001b[0m\n\u001b[1;32m   1455\u001b[0m cancellation_context \u001b[39m=\u001b[39m cancellation\u001b[39m.\u001b[39mcontext()\n\u001b[1;32m   1456\u001b[0m \u001b[39mif\u001b[39;00m cancellation_context \u001b[39mis\u001b[39;00m \u001b[39mNone\u001b[39;00m:\n\u001b[0;32m-> 1457\u001b[0m   outputs \u001b[39m=\u001b[39m execute\u001b[39m.\u001b[39;49mexecute(\n\u001b[1;32m   1458\u001b[0m       name\u001b[39m.\u001b[39;49mdecode(\u001b[39m\"\u001b[39;49m\u001b[39mutf-8\u001b[39;49m\u001b[39m\"\u001b[39;49m),\n\u001b[1;32m   1459\u001b[0m       num_outputs\u001b[39m=\u001b[39;49mnum_outputs,\n\u001b[1;32m   1460\u001b[0m       inputs\u001b[39m=\u001b[39;49mtensor_inputs,\n\u001b[1;32m   1461\u001b[0m       attrs\u001b[39m=\u001b[39;49mattrs,\n\u001b[1;32m   1462\u001b[0m       ctx\u001b[39m=\u001b[39;49m\u001b[39mself\u001b[39;49m,\n\u001b[1;32m   1463\u001b[0m   )\n\u001b[1;32m   1464\u001b[0m \u001b[39melse\u001b[39;00m:\n\u001b[1;32m   1465\u001b[0m   outputs \u001b[39m=\u001b[39m execute\u001b[39m.\u001b[39mexecute_with_cancellation(\n\u001b[1;32m   1466\u001b[0m       name\u001b[39m.\u001b[39mdecode(\u001b[39m\"\u001b[39m\u001b[39mutf-8\u001b[39m\u001b[39m\"\u001b[39m),\n\u001b[1;32m   1467\u001b[0m       num_outputs\u001b[39m=\u001b[39mnum_outputs,\n\u001b[0;32m   (...)\u001b[0m\n\u001b[1;32m   1471\u001b[0m       cancellation_manager\u001b[39m=\u001b[39mcancellation_context,\n\u001b[1;32m   1472\u001b[0m   )\n",
      "File \u001b[0;32m~/anaconda3/lib/python3.10/site-packages/tensorflow/python/eager/execute.py:53\u001b[0m, in \u001b[0;36mquick_execute\u001b[0;34m(op_name, num_outputs, inputs, attrs, ctx, name)\u001b[0m\n\u001b[1;32m     51\u001b[0m \u001b[39mtry\u001b[39;00m:\n\u001b[1;32m     52\u001b[0m   ctx\u001b[39m.\u001b[39mensure_initialized()\n\u001b[0;32m---> 53\u001b[0m   tensors \u001b[39m=\u001b[39m pywrap_tfe\u001b[39m.\u001b[39;49mTFE_Py_Execute(ctx\u001b[39m.\u001b[39;49m_handle, device_name, op_name,\n\u001b[1;32m     54\u001b[0m                                       inputs, attrs, num_outputs)\n\u001b[1;32m     55\u001b[0m \u001b[39mexcept\u001b[39;00m core\u001b[39m.\u001b[39m_NotOkStatusException \u001b[39mas\u001b[39;00m e:\n\u001b[1;32m     56\u001b[0m   \u001b[39mif\u001b[39;00m name \u001b[39mis\u001b[39;00m \u001b[39mnot\u001b[39;00m \u001b[39mNone\u001b[39;00m:\n",
      "\u001b[0;31mKeyboardInterrupt\u001b[0m: "
     ]
    }
   ],
   "source": [
    "model.fit(X_train, y_train, epochs=1)"
   ]
  },
  {
   "cell_type": "code",
   "execution_count": 20,
   "metadata": {},
   "outputs": [
    {
     "name": "stderr",
     "output_type": "stream",
     "text": [
      "/home/saadsameerkhan/.local/lib/python3.10/site-packages/sklearn/preprocessing/_label.py:116: DataConversionWarning: A column-vector y was passed when a 1d array was expected. Please change the shape of y to (n_samples, ), for example using ravel().\n",
      "  y = column_or_1d(y, warn=True)\n"
     ]
    },
    {
     "name": "stdout",
     "output_type": "stream",
     "text": [
      "232/232 [==============================] - 1249s 5s/step - loss: 0.2016 - accuracy: 0.9360 - precision: 0.9335 - recall: 0.9539\n"
     ]
    },
    {
     "data": {
      "text/plain": [
       "[0.20161817967891693,\n",
       " 0.9360010623931885,\n",
       " 0.9334900379180908,\n",
       " 0.9538905024528503]"
      ]
     },
     "execution_count": 20,
     "metadata": {},
     "output_type": "execute_result"
    }
   ],
   "source": [
    "y_test = label_encoder.fit_transform(y_test)\n",
    "model.evaluate(X_test, y_test)"
   ]
  },
  {
   "cell_type": "code",
   "execution_count": 27,
   "metadata": {},
   "outputs": [],
   "source": [
    "fake_1 = combined_df[combined_df[\"category\"] == \"fake\"]"
   ]
  },
  {
   "cell_type": "code",
   "execution_count": 28,
   "metadata": {},
   "outputs": [
    {
     "data": {
      "text/html": [
       "<div>\n",
       "<style scoped>\n",
       "    .dataframe tbody tr th:only-of-type {\n",
       "        vertical-align: middle;\n",
       "    }\n",
       "\n",
       "    .dataframe tbody tr th {\n",
       "        vertical-align: top;\n",
       "    }\n",
       "\n",
       "    .dataframe thead th {\n",
       "        text-align: right;\n",
       "    }\n",
       "</style>\n",
       "<table border=\"1\" class=\"dataframe\">\n",
       "  <thead>\n",
       "    <tr style=\"text-align: right;\">\n",
       "      <th></th>\n",
       "      <th>title</th>\n",
       "      <th>text</th>\n",
       "      <th>subject</th>\n",
       "      <th>date</th>\n",
       "      <th>category</th>\n",
       "      <th>input_text</th>\n",
       "    </tr>\n",
       "  </thead>\n",
       "  <tbody>\n",
       "    <tr>\n",
       "      <th>7911</th>\n",
       "      <td>Americans Demand Obama Pick Next Justice: GOP...</td>\n",
       "      <td>Ever since the passing of Supreme Court Justi...</td>\n",
       "      <td>News</td>\n",
       "      <td>February 23, 2016</td>\n",
       "      <td>fake</td>\n",
       "      <td>Americans Demand Obama Pick Next Justice: GOP...</td>\n",
       "    </tr>\n",
       "    <tr>\n",
       "      <th>3723</th>\n",
       "      <td>Trump ERUPTS At Secret Meeting With The Press...</td>\n",
       "      <td>Donald Trump has had a rocky relationship with...</td>\n",
       "      <td>News</td>\n",
       "      <td>November 21, 2016</td>\n",
       "      <td>fake</td>\n",
       "      <td>Trump ERUPTS At Secret Meeting With The Press...</td>\n",
       "    </tr>\n",
       "    <tr>\n",
       "      <th>5716</th>\n",
       "      <td>Hillary Gives HUGE Middle Finger To GOP Bigot...</td>\n",
       "      <td>While Donald the Trump is busy making the roun...</td>\n",
       "      <td>News</td>\n",
       "      <td>June 26, 2016</td>\n",
       "      <td>fake</td>\n",
       "      <td>Hillary Gives HUGE Middle Finger To GOP Bigot...</td>\n",
       "    </tr>\n",
       "    <tr>\n",
       "      <th>4397</th>\n",
       "      <td>Trump LOSES IT, Has Complete Nervous Breakdow...</td>\n",
       "      <td>Trump has been having a very, very bad week. F...</td>\n",
       "      <td>News</td>\n",
       "      <td>October 2, 2016</td>\n",
       "      <td>fake</td>\n",
       "      <td>Trump LOSES IT, Has Complete Nervous Breakdow...</td>\n",
       "    </tr>\n",
       "    <tr>\n",
       "      <th>13091</th>\n",
       "      <td>OBAMA DEFENDS KAEPERNICK’S Decision to Disresp...</td>\n",
       "      <td>When Obama had the opportunity to speak out ag...</td>\n",
       "      <td>politics</td>\n",
       "      <td>Sep 5, 2016</td>\n",
       "      <td>fake</td>\n",
       "      <td>OBAMA DEFENDS KAEPERNICK’S Decision to Disresp...</td>\n",
       "    </tr>\n",
       "    <tr>\n",
       "      <th>...</th>\n",
       "      <td>...</td>\n",
       "      <td>...</td>\n",
       "      <td>...</td>\n",
       "      <td>...</td>\n",
       "      <td>...</td>\n",
       "      <td>...</td>\n",
       "    </tr>\n",
       "    <tr>\n",
       "      <th>16979</th>\n",
       "      <td>EVIL GEORGE SOROS vs HUNGARIAN PM: The Battle ...</td>\n",
       "      <td>George Soros gets ugly with the name calling t...</td>\n",
       "      <td>Government News</td>\n",
       "      <td>Nov 6, 2015</td>\n",
       "      <td>fake</td>\n",
       "      <td>EVIL GEORGE SOROS vs HUNGARIAN PM: The Battle ...</td>\n",
       "    </tr>\n",
       "    <tr>\n",
       "      <th>7717</th>\n",
       "      <td>Three Liberal Female Supreme Court Justices S...</td>\n",
       "      <td>The United States Supreme Court is currently d...</td>\n",
       "      <td>News</td>\n",
       "      <td>March 3, 2016</td>\n",
       "      <td>fake</td>\n",
       "      <td>Three Liberal Female Supreme Court Justices S...</td>\n",
       "    </tr>\n",
       "    <tr>\n",
       "      <th>3875</th>\n",
       "      <td>WATCH: Van Jones Says EXACTLY What Needs To B...</td>\n",
       "      <td>The election result tonight is hard to swallow...</td>\n",
       "      <td>News</td>\n",
       "      <td>November 9, 2016</td>\n",
       "      <td>fake</td>\n",
       "      <td>WATCH: Van Jones Says EXACTLY What Needs To B...</td>\n",
       "    </tr>\n",
       "    <tr>\n",
       "      <th>6211</th>\n",
       "      <td>Supreme Court Gives A Big ‘F You’ To GOP, Rej...</td>\n",
       "      <td>The Supreme Court did something amazing on Mon...</td>\n",
       "      <td>News</td>\n",
       "      <td>May 23, 2016</td>\n",
       "      <td>fake</td>\n",
       "      <td>Supreme Court Gives A Big ‘F You’ To GOP, Rej...</td>\n",
       "    </tr>\n",
       "    <tr>\n",
       "      <th>5191</th>\n",
       "      <td>Trump’s Biggest, Most Pansy-A** Apologist Now...</td>\n",
       "      <td>Very few of Donald Trump s fans are more blind...</td>\n",
       "      <td>News</td>\n",
       "      <td>August 3, 2016</td>\n",
       "      <td>fake</td>\n",
       "      <td>Trump’s Biggest, Most Pansy-A** Apologist Now...</td>\n",
       "    </tr>\n",
       "  </tbody>\n",
       "</table>\n",
       "<p>16289 rows × 6 columns</p>\n",
       "</div>"
      ],
      "text/plain": [
       "                                                   title  \\\n",
       "7911    Americans Demand Obama Pick Next Justice: GOP...   \n",
       "3723    Trump ERUPTS At Secret Meeting With The Press...   \n",
       "5716    Hillary Gives HUGE Middle Finger To GOP Bigot...   \n",
       "4397    Trump LOSES IT, Has Complete Nervous Breakdow...   \n",
       "13091  OBAMA DEFENDS KAEPERNICK’S Decision to Disresp...   \n",
       "...                                                  ...   \n",
       "16979  EVIL GEORGE SOROS vs HUNGARIAN PM: The Battle ...   \n",
       "7717    Three Liberal Female Supreme Court Justices S...   \n",
       "3875    WATCH: Van Jones Says EXACTLY What Needs To B...   \n",
       "6211    Supreme Court Gives A Big ‘F You’ To GOP, Rej...   \n",
       "5191    Trump’s Biggest, Most Pansy-A** Apologist Now...   \n",
       "\n",
       "                                                    text          subject  \\\n",
       "7911    Ever since the passing of Supreme Court Justi...             News   \n",
       "3723   Donald Trump has had a rocky relationship with...             News   \n",
       "5716   While Donald the Trump is busy making the roun...             News   \n",
       "4397   Trump has been having a very, very bad week. F...             News   \n",
       "13091  When Obama had the opportunity to speak out ag...         politics   \n",
       "...                                                  ...              ...   \n",
       "16979  George Soros gets ugly with the name calling t...  Government News   \n",
       "7717   The United States Supreme Court is currently d...             News   \n",
       "3875   The election result tonight is hard to swallow...             News   \n",
       "6211   The Supreme Court did something amazing on Mon...             News   \n",
       "5191   Very few of Donald Trump s fans are more blind...             News   \n",
       "\n",
       "                    date category  \\\n",
       "7911   February 23, 2016     fake   \n",
       "3723   November 21, 2016     fake   \n",
       "5716       June 26, 2016     fake   \n",
       "4397     October 2, 2016     fake   \n",
       "13091        Sep 5, 2016     fake   \n",
       "...                  ...      ...   \n",
       "16979        Nov 6, 2015     fake   \n",
       "7717       March 3, 2016     fake   \n",
       "3875    November 9, 2016     fake   \n",
       "6211        May 23, 2016     fake   \n",
       "5191      August 3, 2016     fake   \n",
       "\n",
       "                                              input_text  \n",
       "7911    Americans Demand Obama Pick Next Justice: GOP...  \n",
       "3723    Trump ERUPTS At Secret Meeting With The Press...  \n",
       "5716    Hillary Gives HUGE Middle Finger To GOP Bigot...  \n",
       "4397    Trump LOSES IT, Has Complete Nervous Breakdow...  \n",
       "13091  OBAMA DEFENDS KAEPERNICK’S Decision to Disresp...  \n",
       "...                                                  ...  \n",
       "16979  EVIL GEORGE SOROS vs HUNGARIAN PM: The Battle ...  \n",
       "7717    Three Liberal Female Supreme Court Justices S...  \n",
       "3875    WATCH: Van Jones Says EXACTLY What Needs To B...  \n",
       "6211    Supreme Court Gives A Big ‘F You’ To GOP, Rej...  \n",
       "5191    Trump’s Biggest, Most Pansy-A** Apologist Now...  \n",
       "\n",
       "[16289 rows x 6 columns]"
      ]
     },
     "execution_count": 28,
     "metadata": {},
     "output_type": "execute_result"
    }
   ],
   "source": [
    "fake_1"
   ]
  },
  {
   "cell_type": "code",
   "execution_count": 29,
   "metadata": {},
   "outputs": [],
   "source": [
    "real_1 = combined_df[combined_df[\"category\"] == \"real\"]"
   ]
  },
  {
   "cell_type": "code",
   "execution_count": 31,
   "metadata": {},
   "outputs": [
    {
     "data": {
      "text/plain": [
       "' Americans Demand Obama Pick Next Justice: GOP Gives Them A Huge Middle Finger (VIDEO)  Ever since the passing of Supreme Court Justice Antonin Scalia, Republicans have insisted on turning the constitutionally-backed nomination process into a political sideshow to deprive Obama of his legal right to name a new Justice and to deprive Americans of their say in the matter.Senate Republicans, led by their Obstructor-in-Chief Mitch McConnell, have repeatedly made the astounding claim that they will refuse to hold nomination hearings for any person Obama may choose. Sight unseen. Instead, they will spend the next 340 days with an empty seat on the Supreme Court   a glowing middle finger neon sign built in the way of the democratic process.For their part, the American people have made it absolutely clear that this sort of political point scoring is inappropriate, offensive, and unwanted. When Fox News (Fox News!) ran a poll asking if Americans supported Obama naming a new justice, an overwhelming majority said yes.Supreme Court Justice Antonin Scalia s recent death has sparked a debate over how to fill the vacancy on the nation s highest court. Taking into consideration that it s an election year, which of the following is closer to your view?It s still the responsibility of current leaders, President Obama and the Senate, to take action to fill the vacancy now: 62The president shouldn t get to nominate someone for a lifetime appointment to the high court this late in his term: 34Note that the number transcends partisan lines. Obama s approval rating sits at around 50 percent. In other words, there are many people that may disagree with the president on issues, but recognize the fact that he is within his rights to name a new Supreme Court Justice.Republicans just don t care.Days after the polls began trickling in saying Americans wanted Obama to be able to fulfill his obligations, McConnell and other Republican leaders held a secret, closed door meeting in his office to decide what to do. Their conclusion was to circle the wagons, dig in and stick their heads in the sand. The Party of No is alive and well.Key Republican senators on the Judiciary Committee emerged from a closed door meeting in Majority Leader Mitch McConnell s office Tuesday united in their determination not to consider any nominee to replace Anton Scalia until the next president takes office. We believe the American people need to decide who is going to make this appointment rather than a lame duck president,  said Majority Whip John Cornryn.This is an egregious  screw you  to not only Democrats and the president, but also to the American people more broadly. It s disgusting that Sen. John Cornryn would invoke the  American people  in his disgusting defense of the GOP s actions, because the American people already had a voice when it came to the process   they voted for President Obama. Twice.If there is any good news in a story that is essentially about one political party destroying the fabric of the democracy to get their way, it s this: Republicans may fold their arms and throw a tantrum, but they are showing everyone   Democratic and Republican voters alike   that they only care about their own self-interest. The voice of the people? They couldn t care less. I wonder how that s going to play on election day.Featured image via Flickr'"
      ]
     },
     "execution_count": 31,
     "metadata": {},
     "output_type": "execute_result"
    }
   ],
   "source": [
    "fake_var = fake_1.iloc[0, 5]\n",
    "fake_var"
   ]
  },
  {
   "cell_type": "code",
   "execution_count": 32,
   "metadata": {},
   "outputs": [
    {
     "data": {
      "text/plain": [
       "' Trump ERUPTS At Secret Meeting With The Press, Transition In Chaos (TWEETS) Donald Trump has had a rocky relationship with the press ever since his presidential campaign, and he s only punished them further for trying to report the truth since becoming the President-elect.On Monday, Trump was set to have an off the record meeting with television networks to try and hash out presidential press access. This meeting was particularly important because Trump has previously limited press access, and has ditched two protocol press pools since getting elected.Some reporters in attendance were NBC s Deborah Turness, Lester Holt and Chuck Todd; ABC s James Goldston, George Stephanopoulos, David Muir and Martha Raddatz; CBS  Norah O Donnell and Charlie Rose; Fox News  Bill Shine, Jack Abernethy, Jay Wallace, Suzanne Scott; MSNBC s Phil Griffin; and CNN s Jeff Zucker and Erin Burnett. It was a good group, and it could have been a very effective meeting if only things had gone according to plan.Unfortunately, instead of having a respectful conversation and coming up with an amicable way to move forward, what the press got was a baby Trump temper tantrum of epic proportions. Or, as one person put it,  It was like a f*cking firing squad. Trump made zero attempt to hide his disrespect for the media. According to The New York Post, one anonymous source said: The meeting was a total disaster. The TV execs and anchors went in there thinking they would be discussing the access they would get to the Trump administration, but instead they got a Trump-style dressing down. This claim was backed up by another person, who said: The meeting took place in a big board room and there were about 30 or 40 people, including the big news anchors from all the networks. Trump kept saying,  We re in a room of liars, the deceitful dishonest media who got it all wrong. He addressed everyone in the room calling the media dishonest, deceitful liars. He called out Jeff Zucker by name and said everyone at CNN was a liar, and CNN was network of liars. This attack left reporters stunned, and even as they tried to keep bringing up press access to stay on topic, Trump barely let them speak. While this is certainly shocking, this behavior is completely typical of Trump. He has always hated the free press because it has held him accountable and reported on his mistakes and shortcomings.Americans on social media are already coming to terms with how terrifying this is:TwitterTwitterTwitterInterestingly enough, Trump spokeswoman Kellyanne Conway had the nerve to say the meeting went well. She said: Excellent meetings with the top executives of the major networks. Pretty unprecedented meeting we put together in two days. Disgraceful.Featured image by Christopher Furlong via Getty Images'"
      ]
     },
     "execution_count": 32,
     "metadata": {},
     "output_type": "execute_result"
    }
   ],
   "source": [
    "fake_var_2 = fake_1.iloc[1, 5]\n",
    "fake_var_2"
   ]
  },
  {
   "cell_type": "code",
   "execution_count": 33,
   "metadata": {},
   "outputs": [
    {
     "data": {
      "text/plain": [
       "' Hillary Gives HUGE Middle Finger To GOP Bigots With Surprise Showing In NYC Pride Parade While Donald the Trump is busy making the rounds decrying immigration, Hillary Clinton decided to make a surprise appearance in New York City for Pride. She joined NYC mayor Bill de Blasio and Governor Andrew Cuomo on the parade route near the Stonewall Inn   an especially fitting show of solidarity and support following the Orlando massacre.Hillary has worked hard on reaching out to the LGBT community, and right now, they need it more than ever. The entire community was rocked to its core by the Orlando massacre, and how they feel right now is evident in Pride celebrations that are more subdued than usual.Some have avoided Pride altogether out of fear. Others have refused to engage anybody that might show the slightest hint that they re bigoted towards the LGBT community. Make no mistake, Orlando was a direct attack on their community and they have every reason to be terrified right now.Where are the Republicans who decried Orlando? Oh, right, twiddling their thumbs, shaking their heads, and making empty gestures so they don t piss off their evangelical base. Paul Ryan said that authorities knew Omar Mateen had specifically targeted the LGBT community. Then he gave the LGBT community a big  fuck you  when he introduced a rule that the House wouldn t vote on any measure giving workplace protections to LGBT employees of federal contractors.Marco Rubio pretended to mourn the massacre while saying that it can make people think harder about where they can best serve their countries. It s not likely he s talking about military service, and that was a ridiculous way of saying he ll continue to work on behalf of the hate-filled evangelicals from which the horror of Orlando came.And then there s good ol  Ted Cruz. He tried to use Orlando to convince people that it s really the Democrats who are responsible for the deaths of millions of LGBT people all over the world. So why isn t he marching in Pride parades, then? He should if he really wants to make the point that it s not his side of things that caused this.Trump himself once thanked the LGBT community and claimed nobody would be better for them than him, because he ll allegedly fight for their freedoms while Hillary wants to take them away. However, he s also said he d never appoint justices to the Supreme Court who would support marriage equality, and wants people who would give serious thought to overturning Obergefell v. Hodge. Since when is taking a right away from a specific group of people the same as fighting for their freedom?Hillary supports full equality and isn t afraid to say so. She s also unafraid to show up at a major Pride event to show her support. She didn t let the organizers know about her plans because monkey wrenches of all sorts had already been thrown into the works for so many Pride celebrations, thanks to Orlando, so it wasn t totally a surprise. However, some of her campaign volunteers said that she had been planning this for weeks. She would have appeared to show support and solidarity even if Orlando hadn t happened. The GOP? We hear crickets from them, if not outright discriminatory statements.Featured image by Drew Angerer/Getty Images'"
      ]
     },
     "execution_count": 33,
     "metadata": {},
     "output_type": "execute_result"
    }
   ],
   "source": [
    "fake_var_3 = fake_1.iloc[2, 5]\n",
    "fake_var_3"
   ]
  },
  {
   "cell_type": "code",
   "execution_count": 34,
   "metadata": {},
   "outputs": [],
   "source": [
    "real_var_1 = real_1.iloc[1, 5]\n",
    "real_var_2 = real_1.iloc[2, 5]\n",
    "real_var_3 = real_1.iloc[3, 5]"
   ]
  },
  {
   "cell_type": "code",
   "execution_count": 35,
   "metadata": {},
   "outputs": [
    {
     "data": {
      "text/plain": [
       "'U.S. military to accept transgender recruits on Monday: Pentagon WASHINGTON (Reuters) - Transgender people will be allowed for the first time to enlist in the U.S. military starting on Monday as ordered by federal courts, the Pentagon said on Friday, after President Donald Trump’s administration decided not to appeal rulings that blocked his transgender ban. Two federal appeals courts, one in Washington and one in Virginia, last week rejected the administration’s request to put on hold orders by lower court judges requiring the military to begin accepting transgender recruits on Jan. 1. A Justice Department official said the administration will not challenge those rulings. “The Department of Defense has announced that it will be releasing an independent study of these issues in the coming weeks. So rather than litigate this interim appeal before that occurs, the administration has decided to wait for DOD’s study and will continue to defend the president’s lawful authority in District Court in the meantime,” the official said, speaking on condition of anonymity. In September, the Pentagon said it had created a panel of senior officials to study how to implement a directive by Trump to prohibit transgender individuals from serving. The Defense Department has until Feb. 21 to submit a plan to Trump. Lawyers representing currently-serving transgender service members and aspiring recruits said they had expected the administration to appeal the rulings to the conservative-majority Supreme Court, but were hoping that would not happen. Pentagon spokeswoman Heather Babb said in a statement: “As mandated by court order, the Department of Defense is prepared to begin accessing transgender applicants for military service Jan. 1. All applicants must meet all accession standards.” Jennifer Levi, a lawyer with gay, lesbian and transgender advocacy group GLAD, called the decision not to appeal “great news.” “I’m hoping it means the government has come to see that there is no way to justify a ban and that it’s not good for the military or our country,” Levi said. Both GLAD and the American Civil Liberties Union represent plaintiffs in the lawsuits filed against the administration. In a move that appealed to his hard-line conservative supporters, Trump announced in July that he would prohibit transgender people from serving in the military, reversing Democratic President Barack Obama’s policy of accepting them. Trump said on Twitter at the time that the military “cannot be burdened with the tremendous medical costs and disruption that transgender in the military would entail.” Four federal judges - in Baltimore, Washington, D.C., Seattle and Riverside, California - have issued rulings blocking Trump’s ban while legal challenges to the Republican president’s policy proceed. The judges said the ban would likely violate the right under the U.S. Constitution to equal protection under the law. The Pentagon on Dec. 8 issued guidelines to recruitment personnel in order to enlist transgender applicants by Jan. 1. The memo outlined medical requirements and specified how the applicants’ sex would be identified and even which undergarments they would wear. The Trump administration previously said in legal papers that the armed forces were not prepared to train thousands of personnel on the medical standards needed to process transgender applicants and might have to accept “some individuals who are not medically fit for service.” The Obama administration had set a deadline of July 1, 2017, to begin accepting transgender recruits. But Trump’s defense secretary, James Mattis, postponed that date to Jan. 1, 2018, which the president’s ban then put off indefinitely. Trump has taken other steps aimed at rolling back transgender rights. In October, his administration said a federal law banning gender-based workplace discrimination does not protect transgender employees, reversing another Obama-era position. In February, Trump rescinded guidance issued by the Obama administration saying that public schools should allow transgender students to use the restroom that corresponds to their gender identity. '"
      ]
     },
     "execution_count": 35,
     "metadata": {},
     "output_type": "execute_result"
    }
   ],
   "source": [
    "real_var_1"
   ]
  },
  {
   "cell_type": "code",
   "execution_count": 36,
   "metadata": {},
   "outputs": [
    {
     "data": {
      "text/plain": [
       "\"Senior U.S. Republican senator: 'Let Mr. Mueller do his job' WASHINGTON (Reuters) - The special counsel investigation of links between Russia and President Trump’s 2016 election campaign should continue without interference in 2018, despite calls from some Trump administration allies and Republican lawmakers to shut it down, a prominent Republican senator said on Sunday. Lindsey Graham, who serves on the Senate armed forces and judiciary committees, said Department of Justice Special Counsel Robert Mueller needs to carry on with his Russia investigation without political interference. “This investigation will go forward. It will be an investigation conducted without political influence,” Graham said on CBS’s Face the Nation news program. “And we all need to let Mr. Mueller do his job. I think he’s the right guy at the right time.”  The question of how Russia may have interfered in the election, and how Trump’s campaign may have had links with or co-ordinated any such effort, has loomed over the White House since Trump took office in January. It shows no sign of receding as Trump prepares for his second year in power, despite intensified rhetoric from some Trump allies in recent weeks accusing Mueller’s team of bias against the Republican president. Trump himself seemed to undercut his supporters in an interview last week with the New York Times in which he said he expected Mueller was “going to be fair.”    Russia’s role in the election and the question of possible links to the Trump campaign are the focus of multiple inquiries in Washington. Three committees of the Senate and the House of Representatives are investigating, as well as Mueller, whose team in May took over an earlier probe launched by the U.S. Federal Bureau of Investigation (FBI). Several members of the Trump campaign and administration have been convicted or indicted in the investigation.  Trump and his allies deny any collusion with Russia during the campaign, and the Kremlin has denied meddling in the election. Graham said he still wants an examination of the FBI’s use of a dossier on links between Trump and Russia that was compiled by a former British spy, Christopher Steele, which prompted Trump allies and some Republicans to question Mueller’s inquiry.   On Saturday, the New York Times reported that it was not that dossier that triggered an early FBI probe, but a tip from former Trump campaign foreign policy adviser George Papadopoulos to an Australian diplomat that Russia had damaging information about former Trump rival Hillary Clinton.  “I want somebody to look at the way the Department of Justice used this dossier. It bothers me greatly the way they used it, and I want somebody to look at it,” Graham said. But he said the Russia investigation must continue. “As a matter of fact, it would hurt us if we ignored it,” he said. \""
      ]
     },
     "execution_count": 36,
     "metadata": {},
     "output_type": "execute_result"
    }
   ],
   "source": [
    "real_var_2"
   ]
  },
  {
   "cell_type": "code",
   "execution_count": 37,
   "metadata": {},
   "outputs": [
    {
     "data": {
      "text/plain": [
       "'FBI Russia probe helped by Australian diplomat tip-off: NYT WASHINGTON (Reuters) - Trump campaign adviser George Papadopoulos told an Australian diplomat in May 2016 that Russia had political dirt on Democratic presidential candidate Hillary Clinton, the New York Times reported on Saturday. The conversation between Papadopoulos and the diplomat, Alexander Downer, in London was a driving factor behind the FBI’s decision to open a counter-intelligence investigation of Moscow’s contacts with the Trump campaign, the Times reported. Two months after the meeting, Australian officials passed the information that came from Papadopoulos to their American counterparts when leaked Democratic emails began appearing online, according to the newspaper, which cited four current and former U.S. and foreign officials. Besides the information from the Australians, the probe by the Federal Bureau of Investigation was also propelled by intelligence from other friendly governments, including the British and Dutch, the Times said. Papadopoulos, a Chicago-based international energy lawyer, pleaded guilty on Oct. 30 to lying to FBI agents about contacts with people who claimed to have ties to top Russian officials. It was the first criminal charge alleging links between the Trump campaign and Russia. The White House has played down the former aide’s campaign role, saying it was “extremely limited” and that any actions he took would have been on his own. The New York Times, however, reported that Papadopoulos helped set up a meeting between then-candidate Donald Trump and Egyptian President Abdel Fattah al-Sisi and edited the outline of Trump’s first major foreign policy speech in April 2016. The federal investigation, which is now being led by Special Counsel Robert Mueller, has hung over Trump’s White House since he took office almost a year ago. Some Trump allies have recently accused Mueller’s team of being biased against the Republican president. Lawyers for Papadopoulos did not immediately respond to requests by Reuters for comment. Mueller’s office declined to comment. Trump’s White House attorney, Ty Cobb, declined to comment on the New York Times report. “Out of respect for the special counsel and his process, we are not commenting on matters such as this,” he said in a statement. Mueller has charged four Trump associates, including Papadopoulos, in his investigation. Russia has denied interfering in the U.S. election and Trump has said there was no collusion between his campaign and Moscow. '"
      ]
     },
     "execution_count": 37,
     "metadata": {},
     "output_type": "execute_result"
    }
   ],
   "source": [
    "real_var_3"
   ]
  },
  {
   "cell_type": "code",
   "execution_count": 38,
   "metadata": {},
   "outputs": [],
   "source": [
    "fake2 = \"World's Largest Diamond Unearthed in Africa! Miners in Africa have made an astonishing find, unearthing the world's largest diamond ever recorded. The massive gemstone, weighing over 3,000 carats, is estimated to be worth billions of dollars. The diamond's flawless clarity and stunning size have captivated the jewelry industry, with top luxury brands vying for the chance to own this historic gem. The discovery is expected to have a significant impact on the global diamond market, and experts predict it will become a priceless centerpiece in the crown jewels of a royal family.\"\n",
    "fake1 = \"NASA Announces Discovery of Alien Life on Mars! NASA scientists have made a groundbreaking announcement, revealing the discovery of alien life on Mars. The evidence comes from recent data collected by the Curiosity rover, which indicates the presence of microbial life on the red planet. This discovery marks a historic moment in space exploration and opens up new possibilities for the existence of extraterrestrial life in our solar system. The scientific community is abuzz with excitement, and the search for more evidence of life on Mars is now a top priority for NASA's future missions.\""
   ]
  },
  {
   "cell_type": "code",
   "execution_count": 39,
   "metadata": {},
   "outputs": [],
   "source": [
    "real1 = \"U.S. Military to Accept Transgender Recruits on Monday: Pentagon Transgender people will be allowed to enlist in the U.S. military starting Monday, as ordered by federal courts. The Pentagon stated that it will not appeal rulings that blocked President Trump's transgender ban. The decision comes after federal appeals courts rejected the administration's request to delay accepting transgender recruits. The move marks a significant step toward equality in the military and follows multiple inquiries into Russia's interference in the 2016 election and possible links to the Trump campaign.\"\n",
    "real2 = \"FBI Russia Probe Helped by Australian Diplomat Tip-Off: NYT The FBI's investigation into Russia's contacts with the Trump campaign was propelled by intelligence from Australian diplomat Alexander Downer. George Papadopoulos, a former Trump campaign adviser, told Downer in May 2016 that Russia had political dirt on Hillary Clinton. Australian officials later passed this information to their American counterparts. Papadopoulos pleaded guilty to lying to FBI agents about his contacts with individuals claiming ties to Russian officials. Special Counsel Robert Mueller's investigation continues to be a topic of interest and debate.\""
   ]
  },
  {
   "cell_type": "code",
   "execution_count": 40,
   "metadata": {},
   "outputs": [
    {
     "data": {
      "text/plain": [
       "[\"NASA Announces Discovery of Alien Life on Mars! NASA scientists have made a groundbreaking announcement, revealing the discovery of alien life on Mars. The evidence comes from recent data collected by the Curiosity rover, which indicates the presence of microbial life on the red planet. This discovery marks a historic moment in space exploration and opens up new possibilities for the existence of extraterrestrial life in our solar system. The scientific community is abuzz with excitement, and the search for more evidence of life on Mars is now a top priority for NASA's future missions.\",\n",
       " \"World's Largest Diamond Unearthed in Africa! Miners in Africa have made an astonishing find, unearthing the world's largest diamond ever recorded. The massive gemstone, weighing over 3,000 carats, is estimated to be worth billions of dollars. The diamond's flawless clarity and stunning size have captivated the jewelry industry, with top luxury brands vying for the chance to own this historic gem. The discovery is expected to have a significant impact on the global diamond market, and experts predict it will become a priceless centerpiece in the crown jewels of a royal family.\",\n",
       " \"U.S. Military to Accept Transgender Recruits on Monday: Pentagon Transgender people will be allowed to enlist in the U.S. military starting Monday, as ordered by federal courts. The Pentagon stated that it will not appeal rulings that blocked President Trump's transgender ban. The decision comes after federal appeals courts rejected the administration's request to delay accepting transgender recruits. The move marks a significant step toward equality in the military and follows multiple inquiries into Russia's interference in the 2016 election and possible links to the Trump campaign.\",\n",
       " \"FBI Russia Probe Helped by Australian Diplomat Tip-Off: NYT The FBI's investigation into Russia's contacts with the Trump campaign was propelled by intelligence from Australian diplomat Alexander Downer. George Papadopoulos, a former Trump campaign adviser, told Downer in May 2016 that Russia had political dirt on Hillary Clinton. Australian officials later passed this information to their American counterparts. Papadopoulos pleaded guilty to lying to FBI agents about his contacts with individuals claiming ties to Russian officials. Special Counsel Robert Mueller's investigation continues to be a topic of interest and debate.\"]"
      ]
     },
     "execution_count": 40,
     "metadata": {},
     "output_type": "execute_result"
    }
   ],
   "source": [
    "list1 = [fake1, fake2, real1, real2]\n",
    "list1"
   ]
  },
  {
   "cell_type": "code",
   "execution_count": 41,
   "metadata": {},
   "outputs": [
    {
     "name": "stdout",
     "output_type": "stream",
     "text": [
      "1/1 [==============================] - 1s 1s/step\n"
     ]
    },
    {
     "data": {
      "text/plain": [
       "array([[0.23849733],\n",
       "       [0.48847654],\n",
       "       [0.9264428 ],\n",
       "       [0.9278714 ]], dtype=float32)"
      ]
     },
     "execution_count": 41,
     "metadata": {},
     "output_type": "execute_result"
    }
   ],
   "source": [
    "model.predict(list1)"
   ]
  },
  {
   "cell_type": "code",
   "execution_count": 44,
   "metadata": {},
   "outputs": [],
   "source": [
    "cnn = '''Taiwan police investigated after botched sting operation leads to sexual assault of minor Two Taiwan police officers are under investigation after a botched sting operation led to a minor being sexually assaulted, prompting public uproar and an official apology from the local police department.\n",
    "\n",
    "The incident began in November 2020 when an unnamed 13-year-old girl met a man, Chang Ming-hsin, on a dating app, according to a court verdict handed down earlier this month triggering an investigation into police conduct.\n",
    "\n",
    "According to the court verdict, Chang solicited sex from the girl, offering 5,000 New Taiwan dollars (about $160), and asked her for nude photos. They agreed to meet at a hotel several days later – and when the girl didn’t show up, Chang threatened to leak her explicit photos online.\n",
    "\n",
    "She then reported the case to the Zhongli Precinct of the Taoyuan Police Department, in Taoyuan city, located just outside Taipei, the verdict said. The police put together a sting operation, with the girl agreeing to meet with Chang under the pretense of having sex with him, the verdict revealed.\n",
    "\n",
    "A spokesperson from the precinct said last week that the girl had been accompanied by a guardian when she reported the case, when police took her statement, and when the operation took place. The guardian had agreed to the sting operation, the spokesperson added.\n",
    "\n",
    "During the operation, the girl met Chang outside a fast food restaurant and asked him to step out of the car, with two police officers monitoring the meet-up on scene. But he repeatedly demanded she get in instead, and drove the girl to a parking space about 200 to 300 meters away (about 656 to 984 feet).\n",
    "\n",
    "Chang ordered her to perform oral sex on him and she complied out of fear, the verdict said.\n",
    "\n",
    "Afterward, Chang drove the girl back to the restaurant, where police arrested him. His case reached a verdict on July 13, when the Taoyuan District Court sentenced Chang to eight years in prison on three sexual offense counts, including coercion of a minor to engage in obscene acts and transactional sex.\n",
    "\n",
    "But the police involvement in the botched sting has garnered further international attention and outcry.\n",
    "\n",
    "Focus Taiwan, an offshoot of Taiwan’s official Central News Agency, reported that the girl had been instructed by police not to enter Chang’s car, and that when she did, the police officers on scene had tried to run after the car – but they were “not fast enough” to stop it.\n",
    "\n",
    "The girl reportedly had not mentioned the assault during the following investigation by prosecutors and police, only disclosing it during Chang’s court trial, according to Focus Taiwan.\n",
    "\n",
    "But on Saturday, a spokesperson from the Taoyuan Police Department, which oversees the police precinct, released a video statement apologizing for negligence of the girl’s personal safety and the harm caused to her.\n",
    "\n",
    "The two officers involved in the sting operation have been referred to the district prosecutor’s office for investigation of their alleged negligence and failure in performing their duties, said the spokesperson. In the meantime, they have received demerits and been transferred to only handle administrative police duties.\n",
    "\n",
    "Two other police officers, who had oversight of the operation, have also received demerits, said the spokesperson, citing damage to the police department’s reputation.'''"
   ]
  },
  {
   "cell_type": "code",
   "execution_count": 46,
   "metadata": {},
   "outputs": [],
   "source": [
    "list3 = [cnn]"
   ]
  },
  {
   "cell_type": "code",
   "execution_count": 47,
   "metadata": {},
   "outputs": [
    {
     "name": "stdout",
     "output_type": "stream",
     "text": [
      "1/1 [==============================] - 0s 218ms/step\n"
     ]
    },
    {
     "data": {
      "text/plain": [
       "array([[0.90361345]], dtype=float32)"
      ]
     },
     "execution_count": 47,
     "metadata": {},
     "output_type": "execute_result"
    }
   ],
   "source": [
    "model.predict(list3)"
   ]
  },
  {
   "cell_type": "code",
   "execution_count": 52,
   "metadata": {},
   "outputs": [],
   "source": [
    "def fake_news_predictor(article):\n",
    "    return_result = model.predict([article])\n",
    "    if return_result[0] > 0.6:\n",
    "        return \"Real news\"\n",
    "    else:\n",
    "        return \"Fake news\""
   ]
  },
  {
   "cell_type": "code",
   "execution_count": 53,
   "metadata": {},
   "outputs": [
    {
     "name": "stdout",
     "output_type": "stream",
     "text": [
      "1/1 [==============================] - 0s 211ms/step\n"
     ]
    },
    {
     "data": {
      "text/plain": [
       "'Real news'"
      ]
     },
     "execution_count": 53,
     "metadata": {},
     "output_type": "execute_result"
    }
   ],
   "source": [
    "fake_news_predictor(cnn)"
   ]
  },
  {
   "cell_type": "code",
   "execution_count": null,
   "metadata": {},
   "outputs": [],
   "source": [
    "model.save('trained_model_v1')"
   ]
  }
 ],
 "metadata": {
  "kernelspec": {
   "display_name": "Python 3",
   "language": "python",
   "name": "python3"
  },
  "language_info": {
   "codemirror_mode": {
    "name": "ipython",
    "version": 3
   },
   "file_extension": ".py",
   "mimetype": "text/x-python",
   "name": "python",
   "nbconvert_exporter": "python",
   "pygments_lexer": "ipython3",
   "version": "3.10.9"
  },
  "orig_nbformat": 4
 },
 "nbformat": 4,
 "nbformat_minor": 2
}
