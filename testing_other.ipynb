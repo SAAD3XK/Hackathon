{
 "cells": [
  {
   "cell_type": "code",
   "execution_count": 4,
   "metadata": {},
   "outputs": [],
   "source": [
    "import tensorflow as tf\n",
    "import tensorflow_text as text"
   ]
  },
  {
   "cell_type": "code",
   "execution_count": 5,
   "metadata": {},
   "outputs": [],
   "source": [
    "from keras.models import load_model\n",
    "\n",
    "# Load the model\n",
    "working_model = load_model('trained_model_v1')"
   ]
  },
  {
   "cell_type": "code",
   "execution_count": 4,
   "metadata": {},
   "outputs": [
    {
     "data": {
      "text/plain": [
       "<keras.src.engine.functional.Functional at 0x7fd1d30d2c50>"
      ]
     },
     "execution_count": 4,
     "metadata": {},
     "output_type": "execute_result"
    }
   ],
   "source": [
    "working_model"
   ]
  },
  {
   "cell_type": "code",
   "execution_count": 4,
   "metadata": {},
   "outputs": [],
   "source": [
    "def fake_news_predictor(article):\n",
    "    return_result = working_model.predict([article])\n",
    "    if return_result[0] > 0.6:\n",
    "        return \"Real news\"\n",
    "    else:\n",
    "        return \"Fake news\""
   ]
  },
  {
   "cell_type": "code",
   "execution_count": 9,
   "metadata": {},
   "outputs": [],
   "source": [
    "cnn = '''Taiwan police investigated after botched sting operation leads to sexual assault of minor Two Taiwan police officers are under investigation after a botched sting operation led to a minor being sexually assaulted, prompting public uproar and an official apology from the local police department.\n",
    "\n",
    "The incident began in November 2020 when an unnamed 13-year-old girl met a man, Chang Ming-hsin, on a dating app, according to a court verdict handed down earlier this month triggering an investigation into police conduct.\n",
    "\n",
    "According to the court verdict, Chang solicited sex from the girl, offering 5,000 New Taiwan dollars (about $160), and asked her for nude photos. They agreed to meet at a hotel several days later – and when the girl didn’t show up, Chang threatened to leak her explicit photos online.\n",
    "\n",
    "She then reported the case to the Zhongli Precinct of the Taoyuan Police Department, in Taoyuan city, located just outside Taipei, the verdict said. The police put together a sting operation, with the girl agreeing to meet with Chang under the pretense of having sex with him, the verdict revealed.\n",
    "\n",
    "A spokesperson from the precinct said last week that the girl had been accompanied by a guardian when she reported the case, when police took her statement, and when the operation took place. The guardian had agreed to the sting operation, the spokesperson added.\n",
    "\n",
    "During the operation, the girl met Chang outside a fast food restaurant and asked him to step out of the car, with two police officers monitoring the meet-up on scene. But he repeatedly demanded she get in instead, and drove the girl to a parking space about 200 to 300 meters away (about 656 to 984 feet).\n",
    "\n",
    "Chang ordered her to perform oral sex on him and she complied out of fear, the verdict said.\n",
    "\n",
    "Afterward, Chang drove the girl back to the restaurant, where police arrested him. His case reached a verdict on July 13, when the Taoyuan District Court sentenced Chang to eight years in prison on three sexual offense counts, including coercion of a minor to engage in obscene acts and transactional sex.\n",
    "\n",
    "But the police involvement in the botched sting has garnered further international attention and outcry.\n",
    "\n",
    "Focus Taiwan, an offshoot of Taiwan’s official Central News Agency, reported that the girl had been instructed by police not to enter Chang’s car, and that when she did, the police officers on scene had tried to run after the car – but they were “not fast enough” to stop it.\n",
    "\n",
    "The girl reportedly had not mentioned the assault during the following investigation by prosecutors and police, only disclosing it during Chang’s court trial, according to Focus Taiwan.\n",
    "\n",
    "But on Saturday, a spokesperson from the Taoyuan Police Department, which oversees the police precinct, released a video statement apologizing for negligence of the girl’s personal safety and the harm caused to her.\n",
    "\n",
    "The two officers involved in the sting operation have been referred to the district prosecutor’s office for investigation of their alleged negligence and failure in performing their duties, said the spokesperson. In the meantime, they have received demerits and been transferred to only handle administrative police duties.\n",
    "\n",
    "Two other police officers, who had oversight of the operation, have also received demerits, said the spokesperson, citing damage to the police department’s reputation.'''"
   ]
  },
  {
   "cell_type": "code",
   "execution_count": 10,
   "metadata": {},
   "outputs": [
    {
     "name": "stdout",
     "output_type": "stream",
     "text": [
      "1/1 [==============================] - 0s 198ms/step\n"
     ]
    },
    {
     "data": {
      "text/plain": [
       "'Real news'"
      ]
     },
     "execution_count": 10,
     "metadata": {},
     "output_type": "execute_result"
    }
   ],
   "source": [
    "fake_news_predictor(cnn)"
   ]
  }
 ],
 "metadata": {
  "kernelspec": {
   "display_name": "base",
   "language": "python",
   "name": "python3"
  },
  "language_info": {
   "codemirror_mode": {
    "name": "ipython",
    "version": 3
   },
   "file_extension": ".py",
   "mimetype": "text/x-python",
   "name": "python",
   "nbconvert_exporter": "python",
   "pygments_lexer": "ipython3",
   "version": "3.10.6"
  },
  "orig_nbformat": 4
 },
 "nbformat": 4,
 "nbformat_minor": 2
}
